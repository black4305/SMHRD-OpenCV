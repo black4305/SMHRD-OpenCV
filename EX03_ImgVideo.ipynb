{
 "cells": [
  {
   "cell_type": "code",
   "execution_count": 1,
   "metadata": {},
   "outputs": [],
   "source": [
    "import cv2\n",
    "from matplotlib import pyplot as plt"
   ]
  },
  {
   "cell_type": "code",
   "execution_count": 3,
   "metadata": {},
   "outputs": [
    {
     "name": "stdout",
     "output_type": "stream",
     "text": [
      "사용자에 의해 동영상 종료\n"
     ]
    }
   ],
   "source": [
    "# cap = cv2.VideoCapture('rstp://ip 주소 : port / 경로')\n",
    "cap = cv2.VideoCapture(0)\n",
    "\n",
    "while cap.isOpened() :\n",
    "    ret, frame = cap.read()\n",
    "\n",
    "    if not ret :\n",
    "        print('동영상 재생 끝 / 읽기 실패')\n",
    "        break\n",
    "\n",
    "    cv2.imshow('video', frame)\n",
    "    \n",
    "    key = cv2.waitKey(11)\n",
    "\n",
    "    if key == ord('q') :\n",
    "        print('사용자에 의해 동영상 종료')\n",
    "        break\n",
    "\n",
    "cap.release()\n",
    "cv2.destroyAllWindows()"
   ]
  },
  {
   "cell_type": "code",
   "execution_count": 10,
   "metadata": {},
   "outputs": [
    {
     "name": "stdout",
     "output_type": "stream",
     "text": [
      "./data/img1.png 사진 저장\n",
      "./data/img2.png 사진 저장\n",
      "./data/img3.png 사진 저장\n",
      "./data/img4.png 사진 저장\n",
      "./data/img5.png 사진 저장\n",
      "./data/img6.png 사진 저장\n",
      "./data/img7.png 사진 저장\n",
      "./data/img8.png 사진 저장\n",
      "./data/img9.png 사진 저장\n",
      "./data/img10.png 사진 저장\n",
      "./data/img11.png 사진 저장\n",
      "./data/img12.png 사진 저장\n",
      "./data/img13.png 사진 저장\n",
      "./data/img14.png 사진 저장\n",
      "./data/img15.png 사진 저장\n",
      "./data/img16.png 사진 저장\n",
      "./data/img17.png 사진 저장\n",
      "./data/img18.png 사진 저장\n",
      "./data/img19.png 사진 저장\n",
      "./data/img20.png 사진 저장\n",
      "./data/img21.png 사진 저장\n",
      "./data/img22.png 사진 저장\n",
      "./data/img23.png 사진 저장\n",
      "./data/img24.png 사진 저장\n",
      "./data/img25.png 사진 저장\n",
      "./data/img26.png 사진 저장\n",
      "./data/img27.png 사진 저장\n",
      "사용자에 의해 동영상 종료\n"
     ]
    }
   ],
   "source": [
    "# cap = cv2.VideoCapture('rstp://ip 주소 : port / 경로')\n",
    "cap = cv2.VideoCapture(0)\n",
    "\n",
    "cnt = 0\n",
    "\n",
    "while cap.isOpened() :\n",
    "    ret, frame = cap.read()\n",
    "\n",
    "    if not ret :\n",
    "        print('동영상 재생 끝 / 읽기 실패')\n",
    "        break\n",
    "\n",
    "    cv2.imshow('video', frame)\n",
    "    \n",
    "    key = cv2.waitKey(33)\n",
    "\n",
    "    if key == ord('q') :\n",
    "        print('사용자에 의해 동영상 종료')\n",
    "        break\n",
    "    \n",
    "    if key == ord('w') :\n",
    "        cnt += 1\n",
    "        print(f'./data/img{cnt}.png 사진 저장')\n",
    "        cv2.imwrite(f'./data/img{cnt}.png', frame, params = [cv2.IMWRITE_PNG_COMPRESSION, 0])\n",
    "\n",
    "cap.release()\n",
    "cv2.destroyAllWindows()"
   ]
  },
  {
   "cell_type": "markdown",
   "metadata": {},
   "source": [
    "### CCTV 만들기 - 동영상 녹화하기"
   ]
  },
  {
   "cell_type": "code",
   "execution_count": 16,
   "metadata": {},
   "outputs": [
    {
     "name": "stderr",
     "output_type": "stream",
     "text": [
      "OpenCV: FFMPEG: tag 0x5634504d/'MP4V' is not supported with codec id 12 and format 'mp4 / MP4 (MPEG-4 Part 14)'\n",
      "OpenCV: FFMPEG: fallback to use tag 0x7634706d/'mp4v'\n"
     ]
    },
    {
     "ename": "KeyboardInterrupt",
     "evalue": "",
     "output_type": "error",
     "traceback": [
      "\u001b[0;31m---------------------------------------------------------------------------\u001b[0m",
      "\u001b[0;31mKeyboardInterrupt\u001b[0m                         Traceback (most recent call last)",
      "Cell \u001b[0;32mIn[16], line 16\u001b[0m\n\u001b[1;32m     13\u001b[0m record \u001b[38;5;241m=\u001b[39m \u001b[38;5;28;01mFalse\u001b[39;00m\n\u001b[1;32m     15\u001b[0m \u001b[38;5;28;01mwhile\u001b[39;00m cap\u001b[38;5;241m.\u001b[39misOpened() :\n\u001b[0;32m---> 16\u001b[0m     ret, frame \u001b[38;5;241m=\u001b[39m cap\u001b[38;5;241m.\u001b[39mread()\n\u001b[1;32m     18\u001b[0m     \u001b[38;5;28;01mif\u001b[39;00m \u001b[38;5;129;01mnot\u001b[39;00m ret :\n\u001b[1;32m     19\u001b[0m         \u001b[38;5;28mprint\u001b[39m(\u001b[38;5;124m'\u001b[39m\u001b[38;5;124m이미지 읽기 실패 또는 전체 영상 플레이 완료\u001b[39m\u001b[38;5;124m'\u001b[39m)\n",
      "\u001b[0;31mKeyboardInterrupt\u001b[0m: "
     ]
    }
   ],
   "source": [
    "cap = cv2.VideoCapture(0)\n",
    "\n",
    "fps = 120\n",
    "# fps = cap.get(cv2.CAP_PROP_FPS)\n",
    "\n",
    "w = int(cap.get(3))\n",
    "h = int(cap.get(4))\n",
    "\n",
    "codec = cv2.VideoWriter_fourcc(*'MP4V')\n",
    "\n",
    "out = cv2.VideoWriter('./data/myface.mp4', codec, fps, (w, h))\n",
    "\n",
    "record = False\n",
    "\n",
    "while cap.isOpened() :\n",
    "    ret, frame = cap.read()\n",
    "\n",
    "    if not ret :\n",
    "        print('이미지 읽기 실패 또는 전체 영상 플레이 완료')\n",
    "        break\n",
    "\n",
    "    cv2.imshow('video', frame)\n",
    "    \n",
    "    key = cv2.waitKey(33)\n",
    "\n",
    "    if key == ord('q') :\n",
    "        print('녹화 종료')\n",
    "        break\n",
    "\n",
    "    if key == ord('r') :\n",
    "        print('녹화 시작')\n",
    "        record = True\n",
    "    \n",
    "    if record :\n",
    "        out.write(frame)\n",
    "\n",
    "cap.release()\n",
    "out.release()\n",
    "cv2.destroyAllWindows()"
   ]
  }
 ],
 "metadata": {
  "kernelspec": {
   "display_name": "school_class",
   "language": "python",
   "name": "python3"
  },
  "language_info": {
   "codemirror_mode": {
    "name": "ipython",
    "version": 3
   },
   "file_extension": ".py",
   "mimetype": "text/x-python",
   "name": "python",
   "nbconvert_exporter": "python",
   "pygments_lexer": "ipython3",
   "version": "3.12.9"
  }
 },
 "nbformat": 4,
 "nbformat_minor": 2
}
